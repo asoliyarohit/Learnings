{
 "cells": [
  {
   "cell_type": "markdown",
   "metadata": {},
   "source": [
    "# Apache Spark\n",
    "* Apache Spark is an analytics engine and framework to perform cluster computing. The inherent nature of Spark is parallel processing which allows it to complete the tasks in the fastest way possible. \n",
    "* Spark is **polyglot** which means it can be run on top of many programming languages such as Java, Scala, Python, and R.\n",
    "* Spark runs everywhere. Spark runs on Hadoop, Apache Mesos, Kubernetes, standalone, or in the cloud. It can access diverse data sources.\n",
    "* Spark uses DAG (Directed Acyclic Graph) to schedule tasks."
   ]
  },
  {
   "cell_type": "code",
   "execution_count": 1,
   "metadata": {},
   "outputs": [
    {
     "name": "stdout",
     "output_type": "stream",
     "text": [
      "Collecting pyspark\n",
      "  Downloading pyspark-3.0.1.tar.gz (204.2 MB)\n",
      "Collecting py4j==0.10.9\n",
      "  Downloading py4j-0.10.9-py2.py3-none-any.whl (198 kB)\n",
      "Building wheels for collected packages: pyspark\n",
      "  Building wheel for pyspark (setup.py): started\n",
      "  Building wheel for pyspark (setup.py): finished with status 'done'\n",
      "  Created wheel for pyspark: filename=pyspark-3.0.1-py2.py3-none-any.whl size=204612248 sha256=446dcf0f16b8f56fadbc6658698b60159de8c6231f19b3128d79b242593361a7\n",
      "  Stored in directory: c:\\users\\rohitasoliya\\appdata\\local\\pip\\cache\\wheels\\ea\\21\\84\\970b03913d0d6a96ef51c34c878add0de9e4ecbb7c764ea21f\n",
      "Successfully built pyspark\n",
      "Installing collected packages: py4j, pyspark\n",
      "Successfully installed py4j-0.10.9 pyspark-3.0.1\n"
     ]
    }
   ],
   "source": [
    "#install Pyspark~~~\n",
    "\n",
    "!pip install pyspark"
   ]
  },
  {
   "cell_type": "code",
   "execution_count": 2,
   "metadata": {},
   "outputs": [
    {
     "name": "stdout",
     "output_type": "stream",
     "text": [
      "Requirement already satisfied: numpy in c:\\users\\rohitasoliya\\anaconda3\\lib\\site-packages (1.18.5)\n"
     ]
    }
   ],
   "source": [
    "## install other dependencies\n",
    "\n",
    "!pip install numpy"
   ]
  },
  {
   "cell_type": "code",
   "execution_count": 4,
   "metadata": {},
   "outputs": [
    {
     "name": "stdout",
     "output_type": "stream",
     "text": [
      "Requirement already satisfied: pandas in c:\\users\\rohitasoliya\\anaconda3\\lib\\site-packages (1.0.5)\n",
      "Requirement already satisfied: pytz>=2017.2 in c:\\users\\rohitasoliya\\anaconda3\\lib\\site-packages (from pandas) (2020.1)\n",
      "Requirement already satisfied: numpy>=1.13.3 in c:\\users\\rohitasoliya\\anaconda3\\lib\\site-packages (from pandas) (1.18.5)\n",
      "Requirement already satisfied: python-dateutil>=2.6.1 in c:\\users\\rohitasoliya\\anaconda3\\lib\\site-packages (from pandas) (2.8.1)\n",
      "Requirement already satisfied: six>=1.5 in c:\\users\\rohitasoliya\\anaconda3\\lib\\site-packages (from python-dateutil>=2.6.1->pandas) (1.15.0)\n"
     ]
    }
   ],
   "source": [
    "## install other dependencies\n",
    "\n",
    "!pip install pandas"
   ]
  },
  {
   "cell_type": "code",
   "execution_count": 5,
   "metadata": {},
   "outputs": [
    {
     "name": "stdout",
     "output_type": "stream",
     "text": [
      "Requirement already satisfied: pandas in c:\\users\\rohitasoliya\\anaconda3\\lib\\site-packages (1.0.5)\n",
      "Requirement already satisfied: numpy>=1.13.3 in c:\\users\\rohitasoliya\\anaconda3\\lib\\site-packages (from pandas) (1.18.5)\n",
      "Requirement already satisfied: python-dateutil>=2.6.1 in c:\\users\\rohitasoliya\\anaconda3\\lib\\site-packages (from pandas) (2.8.1)\n",
      "Requirement already satisfied: pytz>=2017.2 in c:\\users\\rohitasoliya\\anaconda3\\lib\\site-packages (from pandas) (2020.1)\n",
      "Requirement already satisfied: six>=1.5 in c:\\users\\rohitasoliya\\anaconda3\\lib\\site-packages (from python-dateutil>=2.6.1->pandas) (1.15.0)\n"
     ]
    }
   ],
   "source": [
    "## install other dependencies\n",
    "\n",
    "!pip install pandas"
   ]
  },
  {
   "cell_type": "code",
   "execution_count": 6,
   "metadata": {},
   "outputs": [],
   "source": [
    "import math\n",
    "import numpy as np \n",
    "import pandas as pd  \n",
    "import pyspark\n",
    "from pyspark.sql import SparkSession\n",
    "from pyspark.sql.functions import isnan, when, count, col, isnull, asc, desc, mean"
   ]
  },
  {
   "cell_type": "code",
   "execution_count": 7,
   "metadata": {},
   "outputs": [],
   "source": [
    "'''Create a spark session'''\n",
    "spark = SparkSession.builder.master(\"local\").appName(\"DataWrangling\").getOrCreate()\n",
    "'''Set this configuration to get output similar to pandas'''\n",
    "spark.conf.set('spark.sql.repl.eagerEval.enabled', True)"
   ]
  },
  {
   "cell_type": "code",
   "execution_count": 9,
   "metadata": {},
   "outputs": [
    {
     "data": {
      "text/html": [
       "<table border='1'>\n",
       "<tr><th>PassengerId</th><th>Pclass</th><th>Name</th><th>Sex</th><th>Age</th><th>SibSp</th><th>Parch</th><th>Ticket</th><th>Fare</th><th>Cabin</th><th>Embarked</th></tr>\n",
       "<tr><td>892</td><td>3</td><td>Kelly, Mr. James</td><td>male</td><td>34.5</td><td>0</td><td>0</td><td>330911</td><td>7.8292</td><td>null</td><td>Q</td></tr>\n",
       "<tr><td>893</td><td>3</td><td>Wilkes, Mrs. Jame...</td><td>female</td><td>47</td><td>1</td><td>0</td><td>363272</td><td>7</td><td>null</td><td>S</td></tr>\n",
       "<tr><td>894</td><td>2</td><td>Myles, Mr. Thomas...</td><td>male</td><td>62</td><td>0</td><td>0</td><td>240276</td><td>9.6875</td><td>null</td><td>Q</td></tr>\n",
       "<tr><td>895</td><td>3</td><td>Wirz, Mr. Albert</td><td>male</td><td>27</td><td>0</td><td>0</td><td>315154</td><td>8.6625</td><td>null</td><td>S</td></tr>\n",
       "<tr><td>896</td><td>3</td><td>Hirvonen, Mrs. Al...</td><td>female</td><td>22</td><td>1</td><td>1</td><td>3101298</td><td>12.2875</td><td>null</td><td>S</td></tr>\n",
       "</table>\n"
      ],
      "text/plain": [
       "+-----------+------+--------------------+------+----+-----+-----+-------+-------+-----+--------+\n",
       "|PassengerId|Pclass|                Name|   Sex| Age|SibSp|Parch| Ticket|   Fare|Cabin|Embarked|\n",
       "+-----------+------+--------------------+------+----+-----+-----+-------+-------+-----+--------+\n",
       "|        892|     3|    Kelly, Mr. James|  male|34.5|    0|    0| 330911| 7.8292| null|       Q|\n",
       "|        893|     3|Wilkes, Mrs. Jame...|female|  47|    1|    0| 363272|      7| null|       S|\n",
       "|        894|     2|Myles, Mr. Thomas...|  male|  62|    0|    0| 240276| 9.6875| null|       Q|\n",
       "|        895|     3|    Wirz, Mr. Albert|  male|  27|    0|    0| 315154| 8.6625| null|       S|\n",
       "|        896|     3|Hirvonen, Mrs. Al...|female|  22|    1|    1|3101298|12.2875| null|       S|\n",
       "+-----------+------+--------------------+------+----+-----+-----+-------+-------+-----+--------+"
      ]
     },
     "execution_count": 9,
     "metadata": {},
     "output_type": "execute_result"
    }
   ],
   "source": [
    "df = spark.read.csv(\"test.csv\", header = True)\n",
    "df.limit(5)"
   ]
  },
  {
   "cell_type": "code",
   "execution_count": 10,
   "metadata": {},
   "outputs": [
    {
     "data": {
      "text/plain": [
       "418"
      ]
     },
     "execution_count": 10,
     "metadata": {},
     "output_type": "execute_result"
    }
   ],
   "source": [
    "'''DF count'''\n",
    "df.count()"
   ]
  },
  {
   "cell_type": "code",
   "execution_count": 11,
   "metadata": {},
   "outputs": [
    {
     "data": {
      "text/html": [
       "<table border='1'>\n",
       "<tr><th>sex</th><th>count</th></tr>\n",
       "<tr><td>female</td><td>152</td></tr>\n",
       "<tr><td>male</td><td>266</td></tr>\n",
       "</table>\n"
      ],
      "text/plain": [
       "+------+-----+\n",
       "|   sex|count|\n",
       "+------+-----+\n",
       "|female|  152|\n",
       "|  male|  266|\n",
       "+------+-----+"
      ]
     },
     "execution_count": 11,
     "metadata": {},
     "output_type": "execute_result"
    }
   ],
   "source": [
    "'''Count by a coulmn'''\n",
    "df.groupBy('sex').count()"
   ]
  },
  {
   "cell_type": "code",
   "execution_count": 12,
   "metadata": {},
   "outputs": [
    {
     "data": {
      "text/html": [
       "<table border='1'>\n",
       "<tr><th>Embarked</th></tr>\n",
       "<tr><td>Q</td></tr>\n",
       "<tr><td>C</td></tr>\n",
       "<tr><td>S</td></tr>\n",
       "</table>\n"
      ],
      "text/plain": [
       "+--------+\n",
       "|Embarked|\n",
       "+--------+\n",
       "|       Q|\n",
       "|       C|\n",
       "|       S|\n",
       "+--------+"
      ]
     },
     "execution_count": 12,
     "metadata": {},
     "output_type": "execute_result"
    }
   ],
   "source": [
    "'''Distinct values of a particular column'''\n",
    "df.select('Embarked').distinct()"
   ]
  },
  {
   "cell_type": "code",
   "execution_count": 14,
   "metadata": {
    "scrolled": true
   },
   "outputs": [
    {
     "data": {
      "text/html": [
       "<table border='1'>\n",
       "<tr><th>Age</th><th>Sex</th><th>Fare</th></tr>\n",
       "<tr><td>34.5</td><td>male</td><td>7.8292</td></tr>\n",
       "<tr><td>47</td><td>female</td><td>7</td></tr>\n",
       "<tr><td>62</td><td>male</td><td>9.6875</td></tr>\n",
       "<tr><td>27</td><td>male</td><td>8.6625</td></tr>\n",
       "<tr><td>22</td><td>female</td><td>12.2875</td></tr>\n",
       "</table>\n"
      ],
      "text/plain": [
       "+----+------+-------+\n",
       "| Age|   Sex|   Fare|\n",
       "+----+------+-------+\n",
       "|34.5|  male| 7.8292|\n",
       "|  47|female|      7|\n",
       "|  62|  male| 9.6875|\n",
       "|  27|  male| 8.6625|\n",
       "|  22|female|12.2875|\n",
       "+----+------+-------+"
      ]
     },
     "execution_count": 14,
     "metadata": {},
     "output_type": "execute_result"
    }
   ],
   "source": [
    "'''Selecting particular columns'''\n",
    "df.select('Age','Sex','Fare').limit(5)"
   ]
  },
  {
   "cell_type": "code",
   "execution_count": 15,
   "metadata": {},
   "outputs": [
    {
     "data": {
      "text/html": [
       "<table border='1'>\n",
       "<tr><th>PassengerId</th><th>Pclass</th><th>Name</th><th>Sex</th><th>Age</th><th>SibSp</th><th>Parch</th><th>Ticket</th><th>Fare</th><th>Cabin</th><th>Embarked</th></tr>\n",
       "<tr><td>0</td><td>0</td><td>0</td><td>0</td><td>86</td><td>0</td><td>0</td><td>0</td><td>1</td><td>327</td><td>0</td></tr>\n",
       "</table>\n"
      ],
      "text/plain": [
       "+-----------+------+----+---+---+-----+-----+------+----+-----+--------+\n",
       "|PassengerId|Pclass|Name|Sex|Age|SibSp|Parch|Ticket|Fare|Cabin|Embarked|\n",
       "+-----------+------+----+---+---+-----+-----+------+----+-----+--------+\n",
       "|          0|     0|   0|  0| 86|    0|    0|     0|   1|  327|       0|\n",
       "+-----------+------+----+---+---+-----+-----+------+----+-----+--------+"
      ]
     },
     "execution_count": 15,
     "metadata": {},
     "output_type": "execute_result"
    }
   ],
   "source": [
    "'''Find the count of missing values'''\n",
    "df.select([count(when(isnull(column),column)).alias(column) for column in df.columns])\n"
   ]
  },
  {
   "cell_type": "code",
   "execution_count": 16,
   "metadata": {},
   "outputs": [
    {
     "data": {
      "text/html": [
       "<table border='1'>\n",
       "<tr><th>PassengerId</th><th>Pclass</th><th>Name</th><th>Sex</th><th>Age</th><th>SibSp</th><th>Parch</th><th>Ticket</th><th>Fare</th><th>Cabin</th><th>Embarked</th></tr>\n",
       "<tr><td>892</td><td>3</td><td>Kelly, Mr. James</td><td>male</td><td>34.5</td><td>0</td><td>0</td><td>330911</td><td>7.8292</td><td>null</td><td>Q</td></tr>\n",
       "<tr><td>893</td><td>3</td><td>Wilkes, Mrs. Jame...</td><td>female</td><td>47</td><td>1</td><td>0</td><td>363272</td><td>7</td><td>null</td><td>S</td></tr>\n",
       "<tr><td>894</td><td>2</td><td>Myles, Mr. Thomas...</td><td>male</td><td>62</td><td>0</td><td>0</td><td>240276</td><td>9.6875</td><td>null</td><td>Q</td></tr>\n",
       "<tr><td>895</td><td>3</td><td>Wirz, Mr. Albert</td><td>male</td><td>27</td><td>0</td><td>0</td><td>315154</td><td>8.6625</td><td>null</td><td>S</td></tr>\n",
       "<tr><td>896</td><td>3</td><td>Hirvonen, Mrs. Al...</td><td>female</td><td>22</td><td>1</td><td>1</td><td>3101298</td><td>12.2875</td><td>null</td><td>S</td></tr>\n",
       "</table>\n"
      ],
      "text/plain": [
       "+-----------+------+--------------------+------+----+-----+-----+-------+-------+-----+--------+\n",
       "|PassengerId|Pclass|                Name|   Sex| Age|SibSp|Parch| Ticket|   Fare|Cabin|Embarked|\n",
       "+-----------+------+--------------------+------+----+-----+-----+-------+-------+-----+--------+\n",
       "|        892|     3|    Kelly, Mr. James|  male|34.5|    0|    0| 330911| 7.8292| null|       Q|\n",
       "|        893|     3|Wilkes, Mrs. Jame...|female|  47|    1|    0| 363272|      7| null|       S|\n",
       "|        894|     2|Myles, Mr. Thomas...|  male|  62|    0|    0| 240276| 9.6875| null|       Q|\n",
       "|        895|     3|    Wirz, Mr. Albert|  male|  27|    0|    0| 315154| 8.6625| null|       S|\n",
       "|        896|     3|Hirvonen, Mrs. Al...|female|  22|    1|    1|3101298|12.2875| null|       S|\n",
       "+-----------+------+--------------------+------+----+-----+-----+-------+-------+-----+--------+"
      ]
     },
     "execution_count": 16,
     "metadata": {},
     "output_type": "execute_result"
    }
   ],
   "source": [
    "'''Filtering for non null'''\n",
    "df.filter(col('Age').isNotNull()).limit(5)"
   ]
  },
  {
   "cell_type": "code",
   "execution_count": 17,
   "metadata": {},
   "outputs": [
    {
     "data": {
      "text/html": [
       "<table border='1'>\n",
       "<tr><th>PassengerId</th><th>Pclass</th><th>Name</th><th>Sex</th><th>Age</th><th>SibSp</th><th>Parch</th><th>Ticket</th><th>Fare</th><th>Cabin</th><th>Embarked</th></tr>\n",
       "<tr><td>902</td><td>3</td><td>Ilieff, Mr. Ylio</td><td>male</td><td>null</td><td>0</td><td>0</td><td>349220</td><td>7.8958</td><td>null</td><td>S</td></tr>\n",
       "<tr><td>914</td><td>1</td><td>Flegenheim, Mrs. ...</td><td>female</td><td>null</td><td>0</td><td>0</td><td>PC 17598</td><td>31.6833</td><td>null</td><td>S</td></tr>\n",
       "<tr><td>921</td><td>3</td><td>Samaan, Mr. Elias</td><td>male</td><td>null</td><td>2</td><td>0</td><td>2662</td><td>21.6792</td><td>null</td><td>C</td></tr>\n",
       "<tr><td>925</td><td>3</td><td>&quot;Johnston, Mrs. A...</td><td>female</td><td>null</td><td>1</td><td>2</td><td>W./C. 6607</td><td>23.45</td><td>null</td><td>S</td></tr>\n",
       "<tr><td>928</td><td>3</td><td>Roth, Miss. Sarah A</td><td>female</td><td>null</td><td>0</td><td>0</td><td>342712</td><td>8.05</td><td>null</td><td>S</td></tr>\n",
       "</table>\n"
      ],
      "text/plain": [
       "+-----------+------+--------------------+------+----+-----+-----+----------+-------+-----+--------+\n",
       "|PassengerId|Pclass|                Name|   Sex| Age|SibSp|Parch|    Ticket|   Fare|Cabin|Embarked|\n",
       "+-----------+------+--------------------+------+----+-----+-----+----------+-------+-----+--------+\n",
       "|        902|     3|    Ilieff, Mr. Ylio|  male|null|    0|    0|    349220| 7.8958| null|       S|\n",
       "|        914|     1|Flegenheim, Mrs. ...|female|null|    0|    0|  PC 17598|31.6833| null|       S|\n",
       "|        921|     3|   Samaan, Mr. Elias|  male|null|    2|    0|      2662|21.6792| null|       C|\n",
       "|        925|     3|\"Johnston, Mrs. A...|female|null|    1|    2|W./C. 6607|  23.45| null|       S|\n",
       "|        928|     3| Roth, Miss. Sarah A|female|null|    0|    0|    342712|   8.05| null|       S|\n",
       "+-----------+------+--------------------+------+----+-----+-----+----------+-------+-----+--------+"
      ]
     },
     "execution_count": 17,
     "metadata": {},
     "output_type": "execute_result"
    }
   ],
   "source": [
    "'''Find the null values of 'Age' '''\n",
    "df.filter(col('Age').isNull()).limit(5)"
   ]
  },
  {
   "cell_type": "code",
   "execution_count": 19,
   "metadata": {},
   "outputs": [
    {
     "name": "stdout",
     "output_type": "stream",
     "text": [
      "31\n"
     ]
    }
   ],
   "source": [
    "'''Find the mean of the column \"Age\" '''\n",
    "mean_ = df.select(mean(col('Age'))).take(1)[0][0]\n",
    "mean_ = math.ceil(mean_)\n",
    "print(mean_)"
   ]
  },
  {
   "cell_type": "code",
   "execution_count": 20,
   "metadata": {},
   "outputs": [
    {
     "data": {
      "text/html": [
       "<table border='1'>\n",
       "<tr><th>Cabin</th><th>count</th></tr>\n",
       "<tr><td>null</td><td>327</td></tr>\n",
       "<tr><td>B57 B59 B63 B66</td><td>3</td></tr>\n",
       "<tr><td>C23 C25 C27</td><td>2</td></tr>\n",
       "<tr><td>C6</td><td>2</td></tr>\n",
       "<tr><td>C31</td><td>2</td></tr>\n",
       "</table>\n"
      ],
      "text/plain": [
       "+---------------+-----+\n",
       "|          Cabin|count|\n",
       "+---------------+-----+\n",
       "|           null|  327|\n",
       "|B57 B59 B63 B66|    3|\n",
       "|    C23 C25 C27|    2|\n",
       "|             C6|    2|\n",
       "|            C31|    2|\n",
       "+---------------+-----+"
      ]
     },
     "execution_count": 20,
     "metadata": {},
     "output_type": "execute_result"
    }
   ],
   "source": [
    "'''Find the value counts of Cabin and select the mode'''\n",
    "df.groupBy(col('Cabin')).count().sort(desc(\"count\")).limit(5)"
   ]
  },
  {
   "cell_type": "code",
   "execution_count": 21,
   "metadata": {},
   "outputs": [],
   "source": [
    "'''Find the mode of'''\n",
    "embarked_mode = df.groupBy(col('Embarked')).count().sort(desc(\"count\")).take(1)[0][0]"
   ]
  },
  {
   "cell_type": "code",
   "execution_count": 22,
   "metadata": {},
   "outputs": [],
   "source": [
    "'''Fill the missing values'''\n",
    "df = df.fillna({'Age':mean_,'Cabin':'C23','Embarked':embarked_mode})"
   ]
  },
  {
   "cell_type": "code",
   "execution_count": null,
   "metadata": {},
   "outputs": [],
   "source": [
    "'''Drop multiple columns'''\n",
    "#df.drop('Age', 'Parch','Ticket').limit(5)"
   ]
  },
  {
   "cell_type": "code",
   "execution_count": 23,
   "metadata": {},
   "outputs": [
    {
     "data": {
      "text/html": [
       "<table border='1'>\n",
       "<tr><th>Sex</th><th>avg(Age)</th></tr>\n",
       "<tr><td>female</td><td>30.39203947368421</td></tr>\n",
       "<tr><td>male</td><td>30.43951127819549</td></tr>\n",
       "</table>\n"
      ],
      "text/plain": [
       "+------+-----------------+\n",
       "|   Sex|         avg(Age)|\n",
       "+------+-----------------+\n",
       "|female|30.39203947368421|\n",
       "|  male|30.43951127819549|\n",
       "+------+-----------------+"
      ]
     },
     "execution_count": 23,
     "metadata": {},
     "output_type": "execute_result"
    }
   ],
   "source": [
    "'''Finding the mean age of male and female'''\n",
    "df.groupBy('Sex').agg(mean('Age'))"
   ]
  },
  {
   "cell_type": "code",
   "execution_count": 24,
   "metadata": {},
   "outputs": [
    {
     "data": {
      "text/html": [
       "<table border='1'>\n",
       "<tr><th>Sex</th><th>avg(Fare)</th></tr>\n",
       "<tr><td>female</td><td>49.74769868421052</td></tr>\n",
       "<tr><td>male</td><td>27.52787698113209</td></tr>\n",
       "</table>\n"
      ],
      "text/plain": [
       "+------+-----------------+\n",
       "|   Sex|        avg(Fare)|\n",
       "+------+-----------------+\n",
       "|female|49.74769868421052|\n",
       "|  male|27.52787698113209|\n",
       "+------+-----------------+"
      ]
     },
     "execution_count": 24,
     "metadata": {},
     "output_type": "execute_result"
    }
   ],
   "source": [
    "'''Finding the mean Fare of male and female'''\n",
    "df.groupBy('Sex').agg(mean('Fare'))"
   ]
  }
 ],
 "metadata": {
  "kernelspec": {
   "display_name": "Python 3",
   "language": "python",
   "name": "python3"
  },
  "language_info": {
   "codemirror_mode": {
    "name": "ipython",
    "version": 3
   },
   "file_extension": ".py",
   "mimetype": "text/x-python",
   "name": "python",
   "nbconvert_exporter": "python",
   "pygments_lexer": "ipython3",
   "version": "3.8.3"
  }
 },
 "nbformat": 4,
 "nbformat_minor": 4
}
