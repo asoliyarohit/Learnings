{
 "cells": [
  {
   "cell_type": "markdown",
   "metadata": {},
   "source": [
    "Customer Segmentation in R\n",
    "===============\n",
    "\n",
    "Customer segmentation (basically clustering users based on their similar attributes) is an important application of unsupervised learning. Companies/businesses/individuals can utilise this to differentiate their users(relevant audience) into strategic groups.\n",
    "\n",
    "**Let's begin!**"
   ]
  },
  {
   "cell_type": "code",
   "execution_count": 2,
   "metadata": {},
   "outputs": [
    {
     "data": {
      "text/html": [
       "'C:/Users/rohitasoliya/Documents/New folder/R Projects'"
      ],
      "text/latex": [
       "'C:/Users/rohitasoliya/Documents/New folder/R Projects'"
      ],
      "text/markdown": [
       "'C:/Users/rohitasoliya/Documents/New folder/R Projects'"
      ],
      "text/plain": [
       "[1] \"C:/Users/rohitasoliya/Documents/New folder/R Projects\""
      ]
     },
     "metadata": {},
     "output_type": "display_data"
    }
   ],
   "source": [
    "getwd()"
   ]
  },
  {
   "cell_type": "code",
   "execution_count": 7,
   "metadata": {
    "scrolled": true
   },
   "outputs": [],
   "source": [
    "customer_data_raw = read.csv(\"Mall_Customers.csv\")"
   ]
  },
  {
   "cell_type": "code",
   "execution_count": 8,
   "metadata": {},
   "outputs": [
    {
     "name": "stdout",
     "output_type": "stream",
     "text": [
      "'data.frame':\t200 obs. of  5 variables:\n",
      " $ CustomerID            : int  1 2 3 4 5 6 7 8 9 10 ...\n",
      " $ Gender                : Factor w/ 2 levels \"Female\",\"Male\": 2 2 1 1 1 1 1 1 2 1 ...\n",
      " $ Age                   : int  19 21 20 23 31 22 35 23 64 30 ...\n",
      " $ Annual.Income..k..    : int  15 15 16 16 17 17 18 18 19 19 ...\n",
      " $ Spending.Score..1.100.: int  39 81 6 77 40 76 6 94 3 72 ...\n"
     ]
    }
   ],
   "source": [
    "str(customer_data_raw)"
   ]
  },
  {
   "cell_type": "code",
   "execution_count": 9,
   "metadata": {},
   "outputs": [
    {
     "data": {
      "text/html": [
       "<ol class=list-inline>\n",
       "\t<li>'CustomerID'</li>\n",
       "\t<li>'Gender'</li>\n",
       "\t<li>'Age'</li>\n",
       "\t<li>'Annual.Income..k..'</li>\n",
       "\t<li>'Spending.Score..1.100.'</li>\n",
       "</ol>\n"
      ],
      "text/latex": [
       "\\begin{enumerate*}\n",
       "\\item 'CustomerID'\n",
       "\\item 'Gender'\n",
       "\\item 'Age'\n",
       "\\item 'Annual.Income..k..'\n",
       "\\item 'Spending.Score..1.100.'\n",
       "\\end{enumerate*}\n"
      ],
      "text/markdown": [
       "1. 'CustomerID'\n",
       "2. 'Gender'\n",
       "3. 'Age'\n",
       "4. 'Annual.Income..k..'\n",
       "5. 'Spending.Score..1.100.'\n",
       "\n",
       "\n"
      ],
      "text/plain": [
       "[1] \"CustomerID\"             \"Gender\"                 \"Age\"                   \n",
       "[4] \"Annual.Income..k..\"     \"Spending.Score..1.100.\""
      ]
     },
     "metadata": {},
     "output_type": "display_data"
    }
   ],
   "source": [
    "names(customer_data_raw)"
   ]
  },
  {
   "cell_type": "code",
   "execution_count": 10,
   "metadata": {},
   "outputs": [
    {
     "data": {
      "text/html": [
       "<table>\n",
       "<caption>A data.frame: 6 × 5</caption>\n",
       "<thead>\n",
       "\t<tr><th scope=col>CustomerID</th><th scope=col>Gender</th><th scope=col>Age</th><th scope=col>Annual.Income..k..</th><th scope=col>Spending.Score..1.100.</th></tr>\n",
       "\t<tr><th scope=col>&lt;int&gt;</th><th scope=col>&lt;fct&gt;</th><th scope=col>&lt;int&gt;</th><th scope=col>&lt;int&gt;</th><th scope=col>&lt;int&gt;</th></tr>\n",
       "</thead>\n",
       "<tbody>\n",
       "\t<tr><td>1</td><td>Male  </td><td>19</td><td>15</td><td>39</td></tr>\n",
       "\t<tr><td>2</td><td>Male  </td><td>21</td><td>15</td><td>81</td></tr>\n",
       "\t<tr><td>3</td><td>Female</td><td>20</td><td>16</td><td> 6</td></tr>\n",
       "\t<tr><td>4</td><td>Female</td><td>23</td><td>16</td><td>77</td></tr>\n",
       "\t<tr><td>5</td><td>Female</td><td>31</td><td>17</td><td>40</td></tr>\n",
       "\t<tr><td>6</td><td>Female</td><td>22</td><td>17</td><td>76</td></tr>\n",
       "</tbody>\n",
       "</table>\n"
      ],
      "text/latex": [
       "A data.frame: 6 × 5\n",
       "\\begin{tabular}{r|lllll}\n",
       " CustomerID & Gender & Age & Annual.Income..k.. & Spending.Score..1.100.\\\\\n",
       " <int> & <fct> & <int> & <int> & <int>\\\\\n",
       "\\hline\n",
       "\t 1 & Male   & 19 & 15 & 39\\\\\n",
       "\t 2 & Male   & 21 & 15 & 81\\\\\n",
       "\t 3 & Female & 20 & 16 &  6\\\\\n",
       "\t 4 & Female & 23 & 16 & 77\\\\\n",
       "\t 5 & Female & 31 & 17 & 40\\\\\n",
       "\t 6 & Female & 22 & 17 & 76\\\\\n",
       "\\end{tabular}\n"
      ],
      "text/markdown": [
       "\n",
       "A data.frame: 6 × 5\n",
       "\n",
       "| CustomerID &lt;int&gt; | Gender &lt;fct&gt; | Age &lt;int&gt; | Annual.Income..k.. &lt;int&gt; | Spending.Score..1.100. &lt;int&gt; |\n",
       "|---|---|---|---|---|\n",
       "| 1 | Male   | 19 | 15 | 39 |\n",
       "| 2 | Male   | 21 | 15 | 81 |\n",
       "| 3 | Female | 20 | 16 |  6 |\n",
       "| 4 | Female | 23 | 16 | 77 |\n",
       "| 5 | Female | 31 | 17 | 40 |\n",
       "| 6 | Female | 22 | 17 | 76 |\n",
       "\n"
      ],
      "text/plain": [
       "  CustomerID Gender Age Annual.Income..k.. Spending.Score..1.100.\n",
       "1 1          Male   19  15                 39                    \n",
       "2 2          Male   21  15                 81                    \n",
       "3 3          Female 20  16                  6                    \n",
       "4 4          Female 23  16                 77                    \n",
       "5 5          Female 31  17                 40                    \n",
       "6 6          Female 22  17                 76                    "
      ]
     },
     "metadata": {},
     "output_type": "display_data"
    }
   ],
   "source": [
    "head(customer_data_raw)"
   ]
  },
  {
   "cell_type": "code",
   "execution_count": 11,
   "metadata": {
    "scrolled": true
   },
   "outputs": [
    {
     "data": {
      "text/plain": [
       "   CustomerID        Gender         Age        Annual.Income..k..\n",
       " Min.   :  1.00   Female:112   Min.   :18.00   Min.   : 15.00    \n",
       " 1st Qu.: 50.75   Male  : 88   1st Qu.:28.75   1st Qu.: 41.50    \n",
       " Median :100.50                Median :36.00   Median : 61.50    \n",
       " Mean   :100.50                Mean   :38.85   Mean   : 60.56    \n",
       " 3rd Qu.:150.25                3rd Qu.:49.00   3rd Qu.: 78.00    \n",
       " Max.   :200.00                Max.   :70.00   Max.   :137.00    \n",
       " Spending.Score..1.100.\n",
       " Min.   : 1.00         \n",
       " 1st Qu.:34.75         \n",
       " Median :50.00         \n",
       " Mean   :50.20         \n",
       " 3rd Qu.:73.00         \n",
       " Max.   :99.00         "
      ]
     },
     "metadata": {},
     "output_type": "display_data"
    }
   ],
   "source": [
    "summary(customer_data_raw)"
   ]
  },
  {
   "cell_type": "code",
   "execution_count": 14,
   "metadata": {
    "scrolled": true
   },
   "outputs": [
    {
     "data": {
      "text/html": [
       "13.9690073315589"
      ],
      "text/latex": [
       "13.9690073315589"
      ],
      "text/markdown": [
       "13.9690073315589"
      ],
      "text/plain": [
       "[1] 13.96901"
      ]
     },
     "metadata": {},
     "output_type": "display_data"
    }
   ],
   "source": [
    "sd(customer_data_raw$Age)"
   ]
  },
  {
   "cell_type": "code",
   "execution_count": 16,
   "metadata": {},
   "outputs": [
    {
     "data": {
      "text/plain": [
       "   Min. 1st Qu.  Median    Mean 3rd Qu.    Max. \n",
       "  18.00   28.75   36.00   38.85   49.00   70.00 "
      ]
     },
     "metadata": {},
     "output_type": "display_data"
    }
   ],
   "source": [
    "summary(customer_data_raw$Age)"
   ]
  },
  {
   "cell_type": "code",
   "execution_count": 17,
   "metadata": {},
   "outputs": [
    {
     "data": {
      "text/html": [
       "26.2647211652712"
      ],
      "text/latex": [
       "26.2647211652712"
      ],
      "text/markdown": [
       "26.2647211652712"
      ],
      "text/plain": [
       "[1] 26.26472"
      ]
     },
     "metadata": {},
     "output_type": "display_data"
    }
   ],
   "source": [
    "sd(customer_data_raw$Annual.Income..k..)"
   ]
  },
  {
   "cell_type": "code",
   "execution_count": 18,
   "metadata": {},
   "outputs": [
    {
     "data": {
      "text/plain": [
       "   Min. 1st Qu.  Median    Mean 3rd Qu.    Max. \n",
       "  15.00   41.50   61.50   60.56   78.00  137.00 "
      ]
     },
     "metadata": {},
     "output_type": "display_data"
    }
   ],
   "source": [
    "summary(customer_data_raw$Annual.Income..k..)"
   ]
  },
  {
   "cell_type": "code",
   "execution_count": 19,
   "metadata": {},
   "outputs": [
    {
     "data": {
      "image/png": "[encoded data removed]",
      "text/plain": [
       "Plot with title \"Using BarPlot to display Gender Comparision\""
      ]
     },
     "metadata": {},
     "output_type": "display_data"
    }
   ],
   "source": [
    "a=table(customer_data_raw$Gender)\n",
    "barplot(a,main=\"Using BarPlot to display Gender Comparision\",\n",
    "       ylab=\"Count\",\n",
    "       xlab=\"Gender\",\n",
    "       col=rainbow(2),\n",
    "       legend=rownames(a))"
   ]
  },
  {
   "cell_type": "code",
   "execution_count": 21,
   "metadata": {},
   "outputs": [
    {
     "data": {
      "image/png": "[encoded data removed]",
      "text/plain": [
       "Plot with title \"Histogram to Show Count of Age Class\""
      ]
     },
     "metadata": {},
     "output_type": "display_data"
    }
   ],
   "source": [
    "hist(customer_data_raw$Age,\n",
    "    col=\"grey\",\n",
    "    main=\"Histogram to Show Count of Age Class\",\n",
    "    xlab=\"Age Class\",\n",
    "    ylab=\"Frequency\",\n",
    "    labels=TRUE)"
   ]
  },
  {
   "cell_type": "code",
   "execution_count": 28,
   "metadata": {
    "scrolled": false
   },
   "outputs": [
    {
     "data": {
      "image/png": "[encoded data removed]",
      "text/plain": [
       "Plot with title \"Boxplot for Descriptive Analysis of Age\""
      ]
     },
     "metadata": {},
     "output_type": "display_data"
    }
   ],
   "source": [
    "boxplot(customer_data_raw$Age,\n",
    "       main=\"Boxplot for Descriptive Analysis of Age\")"
   ]
  },
  {
   "cell_type": "code",
   "execution_count": 29,
   "metadata": {},
   "outputs": [
    {
     "data": {
      "text/plain": [
       "   Min. 1st Qu.  Median    Mean 3rd Qu.    Max. \n",
       "  15.00   41.50   61.50   60.56   78.00  137.00 "
      ]
     },
     "metadata": {},
     "output_type": "display_data"
    },
    {
     "data": {
      "image/png": "[encoded data removed]",
      "text/plain": [
       "Plot with title \"Histogram for Annual Income\""
      ]
     },
     "metadata": {},
     "output_type": "display_data"
    }
   ],
   "source": [
    "summary(customer_data_raw$Annual.Income..k..)\n",
    "hist(customer_data_raw$Annual.Income..k..,\n",
    "  col=\"#660033\",\n",
    "  main=\"Histogram for Annual Income\",\n",
    "  xlab=\"Annual Income Class\",\n",
    "  ylab=\"Frequency\",\n",
    "  labels=TRUE)\n"
   ]
  },
  {
   "cell_type": "code",
   "execution_count": 30,
   "metadata": {},
   "outputs": [
    {
     "data": {
      "text/plain": [
       "   Min. 1st Qu.  Median    Mean 3rd Qu.    Max. \n",
       "   1.00   34.75   50.00   50.20   73.00   99.00 "
      ]
     },
     "metadata": {},
     "output_type": "display_data"
    },
    {
     "data": {
      "image/png": "[encoded data removed]",
      "text/plain": [
       "Plot with title \"BoxPlot for Descriptive Analysis of Spending Score\""
      ]
     },
     "metadata": {},
     "output_type": "display_data"
    }
   ],
   "source": [
    "summary(customer_data_raw$Spending.Score..1.100.)\n",
    "\n",
    "boxplot(customer_data_raw$Spending.Score..1.100.,\n",
    "   horizontal=TRUE,\n",
    "   col=\"#990000\",\n",
    "   main=\"BoxPlot for Descriptive Analysis of Spending Score\")"
   ]
  },
  {
   "cell_type": "markdown",
   "metadata": {},
   "source": [
    "K MEANS\n",
    "===============\n",
    "\n",
    "\n",
    "K-Means is one of the most popular \"clustering\" algorithms. K-means stores $k$ centroids that it uses to define clusters. A point is considered to be in a particular cluster if it is closer to that cluster's centroid than any other centroid.\n",
    "\n",
    "K-Means finds the best centroids by alternating between (1) assigning data points to clusters based on the current centroids (2) chosing centroids (points which are the center of a cluster) based on the current assignment of data points to clusters.\n",
    "\n",
    "\n",
    "**Determining Optimal Clusters**\n",
    "\n",
    "To determine the optimal number of clusters there are a couple of methods:\n",
    "\n",
    "- Elbow method\n",
    "- Silhouette method\n",
    "- Gap statistic\n"
   ]
  },
  {
   "cell_type": "markdown",
   "metadata": {},
   "source": [
    "**Elbow Method**\n",
    "\n",
    "The main goal behind cluster partitioning methods like k-means is to define the clusters such that the intra-cluster variation stays minimum.\n",
    "\n",
    "minimize(sum W(Ck)), k=1…k\n",
    "\n",
    "Where Ck represents the kth cluster and W(Ck) denotes the intra-cluster variation. With the measurement of the total intra-cluster variation, one can evaluate the compactness of the clustering boundary. \n",
    "\n",
    "We can then proceed to define the optimal clusters as follows –\n",
    "\n",
    "1.First, we calculate the clustering algorithm for several values of k. This can be done by creating a variation within k from 1 to 10 clusters. We then calculate the total intra-cluster sum of square (iss). \n",
    "\n",
    "2.Then, we proceed to plot iss based on the number of k clusters. This plot denotes the appropriate number of clusters required in our model. \n",
    "\n",
    "3.In the plot, the location of a bend or a knee is the indication of the optimum number of clusters."
   ]
  },
  {
   "cell_type": "code",
   "execution_count": 31,
   "metadata": {},
   "outputs": [
    {
     "data": {
      "image/png": "[encoded data removed]",
      "text/plain": [
       "plot without title"
      ]
     },
     "metadata": {},
     "output_type": "display_data"
    }
   ],
   "source": [
    "library(purrr)\n",
    "set.seed(123)\n",
    "# function to calculate total intra-cluster sum of square \n",
    "iss <- function(k) {\n",
    "  kmeans(customer_data_raw[,3:5],k,iter.max=100,nstart=100,algorithm=\"Lloyd\" )$tot.withinss\n",
    "}\n",
    "k.values <- 1:10\n",
    "iss_values <- map_dbl(k.values, iss)\n",
    "plot(k.values, iss_values,\n",
    "    type=\"b\", pch = 19, frame = FALSE, \n",
    "    xlab=\"Number of clusters K\",\n",
    "    ylab=\"Total intra-clusters sum of squares\")"
   ]
  },
  {
   "cell_type": "code",
   "execution_count": 36,
   "metadata": {},
   "outputs": [
    {
     "name": "stderr",
     "output_type": "stream",
     "text": [
      "Loading required package: NbClust\n",
      "Warning message in library(package, lib.loc = lib.loc, character.only = TRUE, logical.return = TRUE, :\n",
      "\"there is no package called 'NbClust'\"Warning message:\n",
      "\"package 'factoextra' was built under R version 3.5.3\"Loading required package: ggplot2\n",
      "Welcome! Related Books: `Practical Guide To Cluster Analysis in R` at https://goo.gl/13EFCZ\n"
     ]
    },
    {
     "data": {
      "image/png": "[encoded data removed]",
      "text/plain": [
       "plot without title"
      ]
     },
     "metadata": {},
     "output_type": "display_data"
    }
   ],
   "source": [
    "\n",
    "require(NbClust)\n",
    "library(factoextra)\n",
    "fviz_nbclust(customer_data_raw[,3:5], kmeans, method = \"silhouette\")"
   ]
  },
  {
   "cell_type": "code",
   "execution_count": 44,
   "metadata": {},
   "outputs": [
    {
     "data": {
      "image/png": "[encoded data removed]",
      "text/plain": [
       "plot without title"
      ]
     },
     "metadata": {},
     "output_type": "display_data"
    }
   ],
   "source": [
    "\n",
    "require(factoextra)\n",
    "library(cluster)\n",
    "\n",
    "set.seed(125)\n",
    "stat_gap <- clusGap(customer_data_raw[,3:5], FUN = kmeans, nstart = 25,\n",
    "            K.max = 10, B = 50)\n",
    "fviz_gap_stat(stat_gap)"
   ]
  },
  {
   "cell_type": "code",
   "execution_count": 45,
   "metadata": {
    "scrolled": false
   },
   "outputs": [
    {
     "data": {
      "text/plain": [
       "K-means clustering with 6 clusters of sizes 38, 45, 22, 21, 39, 35\n",
       "\n",
       "Cluster means:\n",
       "       Age Annual.Income..k.. Spending.Score..1.100.\n",
       "1 27.00000           56.65789               49.13158\n",
       "2 56.15556           53.37778               49.08889\n",
       "3 25.27273           25.72727               79.36364\n",
       "4 44.14286           25.14286               19.52381\n",
       "5 32.69231           86.53846               82.12821\n",
       "6 41.68571           88.22857               17.28571\n",
       "\n",
       "Clustering vector:\n",
       "  [1] 4 3 4 3 4 3 4 3 4 3 4 3 4 3 4 3 4 3 4 3 4 3 4 3 4 3 4 3 4 3 4 3 4 3 4 3 4\n",
       " [38] 3 4 3 2 3 2 1 4 3 2 1 1 1 2 1 1 2 2 2 2 2 1 2 2 1 2 2 2 1 2 2 1 1 2 2 2 2\n",
       " [75] 2 1 2 1 1 2 2 1 2 2 1 2 2 1 1 2 2 1 2 1 1 1 2 1 2 1 1 2 2 1 2 1 2 2 2 2 2\n",
       "[112] 1 1 1 1 1 2 2 2 2 1 1 1 5 1 5 6 5 6 5 6 5 1 5 6 5 6 5 6 5 6 5 1 5 6 5 6 5\n",
       "[149] 6 5 6 5 6 5 6 5 6 5 6 5 6 5 6 5 6 5 6 5 6 5 6 5 6 5 6 5 6 5 6 5 6 5 6 5 6\n",
       "[186] 5 6 5 6 5 6 5 6 5 6 5 6 5 6 5\n",
       "\n",
       "Within cluster sum of squares by cluster:\n",
       "[1]  7742.895  8062.133  4099.818  7732.381 13972.359 16690.857\n",
       " (between_SS / total_SS =  81.1 %)\n",
       "\n",
       "Available components:\n",
       "\n",
       "[1] \"cluster\"      \"centers\"      \"totss\"        \"withinss\"     \"tot.withinss\"\n",
       "[6] \"betweenss\"    \"size\"         \"iter\"         \"ifault\"      "
      ]
     },
     "metadata": {},
     "output_type": "display_data"
    }
   ],
   "source": [
    "k6<-kmeans(customer_data_raw[,3:5],6,iter.max=100,nstart=50,algorithm=\"Lloyd\")\n",
    "k6"
   ]
  },
  {
   "cell_type": "code",
   "execution_count": 46,
   "metadata": {
    "scrolled": false
   },
   "outputs": [
    {
     "data": {
      "text/plain": [
       "Importance of components:\n",
       "                           PC1     PC2     PC3\n",
       "Standard deviation     26.4625 26.1597 12.9317\n",
       "Proportion of Variance  0.4512  0.4410  0.1078\n",
       "Cumulative Proportion   0.4512  0.8922  1.0000"
      ]
     },
     "metadata": {},
     "output_type": "display_data"
    },
    {
     "data": {
      "text/html": [
       "<table>\n",
       "<caption>A matrix: 3 × 2 of type dbl</caption>\n",
       "<thead>\n",
       "\t<tr><th></th><th scope=col>PC1</th><th scope=col>PC2</th></tr>\n",
       "</thead>\n",
       "<tbody>\n",
       "\t<tr><th scope=row>Age</th><td> 0.1889742</td><td>-0.1309652</td></tr>\n",
       "\t<tr><th scope=row>Annual.Income..k..</th><td>-0.5886410</td><td>-0.8083757</td></tr>\n",
       "\t<tr><th scope=row>Spending.Score..1.100.</th><td>-0.7859965</td><td> 0.5739136</td></tr>\n",
       "</tbody>\n",
       "</table>\n"
      ],
      "text/latex": [
       "A matrix: 3 × 2 of type dbl\n",
       "\\begin{tabular}{r|ll}\n",
       "  & PC1 & PC2\\\\\n",
       "\\hline\n",
       "\tAge &  0.1889742 & -0.1309652\\\\\n",
       "\tAnnual.Income..k.. & -0.5886410 & -0.8083757\\\\\n",
       "\tSpending.Score..1.100. & -0.7859965 &  0.5739136\\\\\n",
       "\\end{tabular}\n"
      ],
      "text/markdown": [
       "\n",
       "A matrix: 3 × 2 of type dbl\n",
       "\n",
       "| <!--/--> | PC1 | PC2 |\n",
       "|---|---|---|\n",
       "| Age |  0.1889742 | -0.1309652 |\n",
       "| Annual.Income..k.. | -0.5886410 | -0.8083757 |\n",
       "| Spending.Score..1.100. | -0.7859965 |  0.5739136 |\n",
       "\n"
      ],
      "text/plain": [
       "                       PC1        PC2       \n",
       "Age                     0.1889742 -0.1309652\n",
       "Annual.Income..k..     -0.5886410 -0.8083757\n",
       "Spending.Score..1.100. -0.7859965  0.5739136"
      ]
     },
     "metadata": {},
     "output_type": "display_data"
    }
   ],
   "source": [
    "pcclust=prcomp(customer_data_raw[,3:5],scale=FALSE) #principal component analysis\n",
    "summary(pcclust)\n",
    "pcclust$rotation[,1:2]"
   ]
  },
  {
   "cell_type": "code",
   "execution_count": 48,
   "metadata": {
    "scrolled": false
   },
   "outputs": [
    {
     "data": {
      "image/png": "[encoded data removed]",
      "text/plain": [
       "plot without title"
      ]
     },
     "metadata": {},
     "output_type": "display_data"
    }
   ],
   "source": [
    "set.seed(1)\n",
    "ggplot(customer_data_raw, aes(x =Annual.Income..k.., y = Spending.Score..1.100.)) + \n",
    "  geom_point(stat = \"identity\", aes(color = as.factor(k6$cluster))) +\n",
    "  scale_color_discrete(name=\" \",\n",
    "              breaks=c(\"1\", \"2\", \"3\", \"4\", \"5\",\"6\"),\n",
    "              labels=c(\"Cluster 1\", \"Cluster 2\", \"Cluster 3\", \"Cluster 4\", \"Cluster 5\",\"Cluster 6\")) +\n",
    "  ggtitle(\"Segments of Mall Customers\", subtitle = \"Using K-means Clustering\")"
   ]
  },
  {
   "cell_type": "code",
   "execution_count": 49,
   "metadata": {},
   "outputs": [
    {
     "data": {
      "image/png": "[encoded data removed]",
      "text/plain": [
       "plot without title"
      ]
     },
     "metadata": {},
     "output_type": "display_data"
    }
   ],
   "source": [
    "ggplot(customer_data_raw, aes(x =Spending.Score..1.100., y =Age)) + \n",
    "  geom_point(stat = \"identity\", aes(color = as.factor(k6$cluster))) +\n",
    "  scale_color_discrete(name=\" \",\n",
    "                      breaks=c(\"1\", \"2\", \"3\", \"4\", \"5\",\"6\"),\n",
    "                      labels=c(\"Cluster 1\", \"Cluster 2\", \"Cluster 3\", \"Cluster 4\", \"Cluster 5\",\"Cluster 6\")) +\n",
    "  ggtitle(\"Segments of Mall Customers\", subtitle = \"Using K-means Clustering\")"
   ]
  },
  {
   "cell_type": "code",
   "execution_count": null,
   "metadata": {},
   "outputs": [],
   "source": []
  }
 ],
 "metadata": {
  "kernelspec": {
   "display_name": "R",
   "language": "R",
   "name": "ir"
  },
  "language_info": {
   "codemirror_mode": "r",
   "file_extension": ".r",
   "mimetype": "text/x-r-source",
   "name": "R",
   "pygments_lexer": "r",
   "version": "3.5.1"
  }
 },
 "nbformat": 4,
 "nbformat_minor": 2
}
